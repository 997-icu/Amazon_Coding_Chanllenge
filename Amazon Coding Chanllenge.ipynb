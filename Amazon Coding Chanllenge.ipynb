{
 "cells": [
  {
   "cell_type": "markdown",
   "id": "0ac1ae12",
   "metadata": {},
   "source": [
    "## Amazon Coding Challenge\n",
    "## Tianheng Zhou 2022/06/21"
   ]
  },
  {
   "cell_type": "code",
   "execution_count": 1,
   "id": "09cab920",
   "metadata": {},
   "outputs": [],
   "source": [
    "import matplotlib.pyplot as plt\n",
    "from matplotlib import colors\n",
    "import itertools\n",
    "import numpy as np\n",
    "np.random.seed(42)"
   ]
  },
  {
   "cell_type": "code",
   "execution_count": 2,
   "id": "1998ea25",
   "metadata": {},
   "outputs": [],
   "source": [
    "class Node():\n",
    "    \"\"\"A node class for A* Pathfinding\"\"\"\n",
    "\n",
    "    def __init__(self, parent=None, position=None):\n",
    "        self.parent = parent\n",
    "        self.position = position\n",
    "\n",
    "        self.g = 0\n",
    "        self.h = 0\n",
    "        self.f = 0\n",
    "\n",
    "    def __eq__(self, other):\n",
    "        return self.position == other.position"
   ]
  },
  {
   "cell_type": "markdown",
   "id": "409d4892",
   "metadata": {},
   "source": [
    "## A* Algorithm"
   ]
  },
  {
   "cell_type": "code",
   "execution_count": 3,
   "id": "0dde5c62",
   "metadata": {},
   "outputs": [],
   "source": [
    "def astar(maze, start, end):\n",
    "    \"\"\"Returns a list of tuples as a path from the given start to the given end in the given maze\"\"\"\n",
    "\n",
    "    # Create start and end node\n",
    "    start_node = Node(None, start)\n",
    "    start_node.g = start_node.h = start_node.f = 0\n",
    "    end_node = Node(None, end)\n",
    "    end_node.g = end_node.h = end_node.f = 0\n",
    "\n",
    "    # Initialize both open and closed list\n",
    "    open_list = []\n",
    "    closed_list = []\n",
    "\n",
    "    # Add the start node\n",
    "    open_list.append(start_node)\n",
    "\n",
    "    # Loop until you find the end\n",
    "    while len(open_list) > 0:\n",
    "\n",
    "        # Get the current node\n",
    "        current_node = open_list[0]\n",
    "        current_index = 0\n",
    "        for index, item in enumerate(open_list):\n",
    "            if item.f < current_node.f:\n",
    "                current_node = item\n",
    "                current_index = index\n",
    "\n",
    "        # Pop current off open list, add to closed list\n",
    "        open_list.pop(current_index)\n",
    "        closed_list.append(current_node)\n",
    "\n",
    "        # Found the goal\n",
    "        if current_node == end_node:\n",
    "            path = []\n",
    "            current = current_node\n",
    "            while current is not None:\n",
    "                path.append(current.position)\n",
    "                current = current.parent\n",
    "            return path[::-1] # Return reversed path\n",
    "\n",
    "        # Generate children\n",
    "        children = []\n",
    "        for new_position in [(0, -1), (0, 1), (-1, 0), (1, 0), (-1, -1), (-1, 1), (1, -1), (1, 1)]: # Adjacent squares\n",
    "\n",
    "            # Get node position\n",
    "            node_position = (current_node.position[0] + new_position[0], current_node.position[1] + new_position[1])\n",
    "\n",
    "            # Make sure within range\n",
    "            if node_position[0] > (len(maze) - 1) or node_position[0] < 0 or node_position[1] > (len(maze[len(maze)-1]) -1) or node_position[1] < 0:\n",
    "                continue\n",
    "\n",
    "            # Make sure walkable terrain\n",
    "            if maze[node_position[0]][node_position[1]] != 0:\n",
    "                continue\n",
    "\n",
    "            # Create new node\n",
    "            new_node = Node(current_node, node_position)\n",
    "\n",
    "            # Append\n",
    "            children.append(new_node)\n",
    "\n",
    "        # Loop through children\n",
    "        for child in children:\n",
    "\n",
    "            # Child is on the closed list\n",
    "            for closed_child in closed_list:\n",
    "                if child == closed_child:\n",
    "                    continue\n",
    "\n",
    "            # Create the f, g, and h values\n",
    "            child.g = current_node.g + 1\n",
    "            child.h = ((child.position[0] - end_node.position[0]) ** 2) + ((child.position[1] - end_node.position[1]) ** 2)\n",
    "            child.f = child.g + child.h\n",
    "\n",
    "            # Child is already in the open list\n",
    "            for open_node in open_list:\n",
    "                if child == open_node and child.g > open_node.g:\n",
    "                    continue\n",
    "\n",
    "            # Add the child to the open list\n",
    "            open_list.append(child)"
   ]
  },
  {
   "cell_type": "markdown",
   "id": "6009c071",
   "metadata": {},
   "source": [
    "# Phase 1"
   ]
  },
  {
   "cell_type": "code",
   "execution_count": 4,
   "id": "eb872eaa",
   "metadata": {},
   "outputs": [
    {
     "name": "stdout",
     "output_type": "stream",
     "text": [
      "[(0, 0), (1, 1), (2, 2), (3, 3), (4, 4), (5, 5), (6, 6), (7, 7), (8, 8), (9, 9)]\n"
     ]
    }
   ],
   "source": [
    "maze =     [[0, 0, 0, 0, 0, 0, 0, 0, 0, 0],\n",
    "            [0, 0, 0, 0, 0, 0, 0, 0, 0, 0],\n",
    "            [0, 0, 0, 0, 0, 0, 0, 0, 0, 0],\n",
    "            [0, 0, 0, 0, 0, 0, 0, 0, 0, 0],\n",
    "            [0, 0, 0, 0, 0, 0, 0, 0, 0, 0],\n",
    "            [0, 0, 0, 0, 0, 0, 0, 0, 0, 0],\n",
    "            [0, 0, 0, 0, 0, 0, 0, 1, 1, 0],\n",
    "            [0, 0, 0, 0, 0, 0, 0, 0, 0, 0],\n",
    "            [0, 0, 0, 0, 0, 0, 0, 1, 0, 0],\n",
    "            [0, 0, 0, 0, 0, 0, 0, 1, 0, 0]]\n",
    "\n",
    "start = (0, 0)\n",
    "end = (9, 9)\n",
    "\n",
    "path = astar(maze, start, end)\n",
    "print(path)"
   ]
  },
  {
   "cell_type": "code",
   "execution_count": 5,
   "id": "1e865c00",
   "metadata": {},
   "outputs": [
    {
     "data": {
      "image/png": "[encoded data removed]",
      "text/plain": [
       "<Figure size 432x432 with 1 Axes>"
      ]
     },
     "metadata": {
      "needs_background": "light"
     },
     "output_type": "display_data"
    }
   ],
   "source": [
    "%matplotlib inline\n",
    "cmap = colors.ListedColormap(['Blue','red'])\n",
    "plt.figure(figsize=(6,6))\n",
    "plt.pcolor(maze[::-1],cmap=cmap,edgecolors='k', linewidths=3)\n",
    "plt.axis(\"off\")\n",
    "last_x = 0\n",
    "last_y = 0\n",
    "\n",
    "for k,x in enumerate(path):\n",
    "    plt.scatter(x[1]+0.5,10-(x[0]+0.5), marker='o', s=30, color='red')\n",
    "    \n",
    "    if k >=1:\n",
    "        plt.arrow(last_x, last_y, x[1]+0.5 - last_x, 10-(x[0]+0.5) - last_y,\n",
    "              head_width=0.4, length_includes_head=True, color = \"yellow\")\n",
    "        \n",
    "    last_x = x[1]+0.5\n",
    "    last_y = 10-(x[0]+0.5)\n",
    "    \n",
    "plt.show()"
   ]
  },
  {
   "cell_type": "markdown",
   "id": "559851ac",
   "metadata": {},
   "source": [
    "# Phase 2"
   ]
  },
  {
   "cell_type": "code",
   "execution_count": 6,
   "id": "6d1573ae",
   "metadata": {},
   "outputs": [
    {
     "name": "stdout",
     "output_type": "stream",
     "text": [
      "[(0, 0), (0, 1), (0, 2), (0, 3), (0, 4), (0, 5), (0, 6), (0, 7), (0, 8), (1, 9), (2, 9), (3, 8), (4, 9), (5, 9), (6, 9), (7, 9), (8, 8), (9, 9)]\n"
     ]
    }
   ],
   "source": [
    "maze =     [[0, 0, 0, 0, 0, 0, 0, 0, 0, 0],\n",
    "            [0, 1, 1, 1, 1, 1, 1, 1, 1, 0],\n",
    "            [0, 0, 1, 0, 0, 0, 0, 0, 0, 0],\n",
    "            [0, 0, 0, 1, 0, 0, 1, 0, 0, 1],\n",
    "            [0, 0, 0, 0, 1, 0, 1, 0, 1, 0],\n",
    "            [0, 0, 0, 0, 1, 0, 1, 0, 1, 0],\n",
    "            [0, 0, 0, 0, 1, 0, 1, 1, 1, 0],\n",
    "            [0, 0, 0, 0, 1, 0, 0, 0, 0, 0],\n",
    "            [0, 0, 0, 0, 1, 1, 1, 1 ,0, 1],\n",
    "            [0, 0, 0, 0, 0, 0, 0, 1, 0, 0]]\n",
    "\n",
    "start = (0, 0)\n",
    "end = (9, 9)\n",
    "\n",
    "path = astar(maze, start, end)\n",
    "print(path)\n"
   ]
  },
  {
   "cell_type": "code",
   "execution_count": 7,
   "id": "718dc536",
   "metadata": {},
   "outputs": [
    {
     "data": {
      "image/png": "[encoded data removed]",
      "text/plain": [
       "<Figure size 432x432 with 1 Axes>"
      ]
     },
     "metadata": {
      "needs_background": "light"
     },
     "output_type": "display_data"
    }
   ],
   "source": [
    "%matplotlib inline\n",
    "cmap = colors.ListedColormap(['Blue','red'])\n",
    "plt.figure(figsize=(6,6))\n",
    "plt.pcolor(maze[::-1],cmap=cmap,edgecolors='k', linewidths=3)\n",
    "plt.axis(\"off\")\n",
    "last_x = 0\n",
    "last_y = 0\n",
    "\n",
    "for k,x in enumerate(path):\n",
    "    plt.scatter(x[1]+0.5,10-(x[0]+0.5), marker='o', s=30, color='red')\n",
    "    \n",
    "    if k >=1:\n",
    "        plt.arrow(last_x, last_y, x[1]+0.5 - last_x, 10-(x[0]+0.5) - last_y,\n",
    "              head_width=0.4, length_includes_head=True, color = \"yellow\")\n",
    "        \n",
    "    last_x = x[1]+0.5\n",
    "    last_y = 10-(x[0]+0.5)\n",
    "    \n",
    "plt.show()\n"
   ]
  },
  {
   "cell_type": "code",
   "execution_count": 8,
   "id": "7c74082a",
   "metadata": {},
   "outputs": [],
   "source": [
    "maze2 =  np.random.choice([0, 1], size=(10,10), p=[.8, .2])\n",
    "maze2[0,0] = 0\n",
    "maze2[8,7] = maze2[9,7] = maze2[6,7] = maze2[6,8] = 1 \n",
    "maze2[9,9] = 0"
   ]
  },
  {
   "cell_type": "code",
   "execution_count": 9,
   "id": "75e2f71d",
   "metadata": {},
   "outputs": [
    {
     "data": {
      "text/plain": [
       "array([[0, 1, 0, 0, 0, 0, 0, 1, 0, 0],\n",
       "       [0, 1, 1, 0, 0, 0, 0, 0, 0, 0],\n",
       "       [0, 0, 0, 0, 0, 0, 0, 0, 0, 0],\n",
       "       [0, 0, 0, 1, 1, 1, 0, 0, 0, 0],\n",
       "       [0, 0, 0, 1, 0, 0, 0, 0, 0, 0],\n",
       "       [1, 0, 1, 1, 0, 1, 0, 0, 0, 0],\n",
       "       [0, 0, 1, 0, 0, 0, 0, 1, 1, 1],\n",
       "       [0, 0, 0, 1, 0, 0, 0, 0, 0, 0],\n",
       "       [1, 0, 0, 0, 0, 0, 0, 1, 1, 0],\n",
       "       [0, 0, 0, 0, 0, 0, 0, 1, 0, 0]])"
      ]
     },
     "execution_count": 9,
     "metadata": {},
     "output_type": "execute_result"
    }
   ],
   "source": [
    "maze2"
   ]
  },
  {
   "cell_type": "code",
   "execution_count": 10,
   "id": "e92deabe",
   "metadata": {},
   "outputs": [
    {
     "name": "stdout",
     "output_type": "stream",
     "text": [
      "[(0, 0), (1, 0), (2, 1), (3, 2), (4, 2), (5, 1), (6, 1), (7, 2), (8, 3), (9, 4), (9, 5), (8, 6), (7, 7), (7, 8), (8, 9), (9, 9)]\n"
     ]
    }
   ],
   "source": [
    "path2 = astar(maze2, start, end)\n",
    "print(path2)"
   ]
  },
  {
   "cell_type": "code",
   "execution_count": 11,
   "id": "48fee2d2",
   "metadata": {},
   "outputs": [
    {
     "data": {
      "image/png": "[encoded data removed]",
      "text/plain": [
       "<Figure size 432x432 with 1 Axes>"
      ]
     },
     "metadata": {
      "needs_background": "light"
     },
     "output_type": "display_data"
    }
   ],
   "source": [
    "%matplotlib inline\n",
    "cmap = colors.ListedColormap(['Blue','red'])\n",
    "plt.figure(figsize=(6,6))\n",
    "plt.pcolor(maze2[::-1],cmap=cmap,edgecolors='k', linewidths=3)\n",
    "plt.axis(\"off\")\n",
    "last_x = 0\n",
    "last_y = 0\n",
    "\n",
    "for k,x in enumerate(path2):\n",
    "    plt.scatter(x[1]+0.5,10-(x[0]+0.5), marker='o', s=30, color='red')\n",
    "    \n",
    "    if k >=1:\n",
    "        plt.arrow(last_x, last_y, x[1]+0.5 - last_x, 10-(x[0]+0.5) - last_y,\n",
    "              head_width=0.4, length_includes_head=True, color = \"yellow\")\n",
    "        \n",
    "    last_x = x[1]+0.5\n",
    "    last_y = 10-(x[0]+0.5)\n",
    "    \n",
    "plt.show()"
   ]
  },
  {
   "cell_type": "code",
   "execution_count": null,
   "id": "b58e5e4d",
   "metadata": {},
   "outputs": [],
   "source": []
  },
  {
   "cell_type": "code",
   "execution_count": null,
   "id": "05a7c362",
   "metadata": {},
   "outputs": [],
   "source": []
  }
 ],
 "metadata": {
  "kernelspec": {
   "display_name": "Python 3 (ipykernel)",
   "language": "python",
   "name": "python3"
  },
  "language_info": {
   "codemirror_mode": {
    "name": "ipython",
    "version": 3
   },
   "file_extension": ".py",
   "mimetype": "text/x-python",
   "name": "python",
   "nbconvert_exporter": "python",
   "pygments_lexer": "ipython3",
   "version": "3.7.11"
  }
 },
 "nbformat": 4,
 "nbformat_minor": 5
}
